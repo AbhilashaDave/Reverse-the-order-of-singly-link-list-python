{
 "cells": [
  {
   "cell_type": "code",
   "execution_count": 5,
   "metadata": {},
   "outputs": [
    {
     "name": "stdout",
     "output_type": "stream",
     "text": [
      "None\n",
      "1\n",
      "2\n",
      "3\n",
      "4\n",
      "5\n",
      "6\n",
      "7\n",
      "8\n",
      "reverse order\n",
      "9\n",
      "8\n",
      "7\n",
      "6\n",
      "5\n",
      "4\n",
      "3\n",
      "2\n",
      "1\n",
      "None\n"
     ]
    }
   ],
   "source": [
    "class Node:\n",
    "    def __init__(self,data = None):\n",
    "        self.data = data\n",
    "        self.next = None\n",
    "class linkList:\n",
    "    def __init__(self):\n",
    "        self.head = Node()\n",
    "    \n",
    "    def append(self,data):\n",
    "        temp = Node(data)\n",
    "        temp.next = None\n",
    "        \n",
    "        if (self.head == None):\n",
    "            self.head = temp\n",
    "        else:\n",
    "            p = self.head\n",
    "            while p.next != None:\n",
    "                p = p.next\n",
    "            p.next = temp\n",
    "        \n",
    "    def display(self):\n",
    "        currentNode = self.head\n",
    "        while currentNode.next != None:\n",
    "            print (currentNode.data)\n",
    "            currentNode = currentNode.next\n",
    "            \n",
    "    \n",
    "    def reverseOrder(self):\n",
    "        previous = Node()\n",
    "        current = self.head\n",
    "        while current!= None:\n",
    "            nextNode = current.next\n",
    "            current.next = previous\n",
    "            previous = current\n",
    "            current = nextNode\n",
    "        self.head = previous\n",
    "        \n",
    "        \n",
    "             \n",
    "        \n",
    "listArray = [1,2,3,4,5,6,7,8,9]\n",
    "p = linkList()\n",
    "for data in listArray:\n",
    "    p.append(data)\n",
    "p.display()\n",
    "p.reverseOrder()\n",
    "print(\"reverse order\")\n",
    "p.display()\n",
    "\n",
    "            "
   ]
  },
  {
   "cell_type": "code",
   "execution_count": null,
   "metadata": {},
   "outputs": [],
   "source": []
  },
  {
   "cell_type": "code",
   "execution_count": null,
   "metadata": {},
   "outputs": [],
   "source": []
  },
  {
   "cell_type": "code",
   "execution_count": null,
   "metadata": {},
   "outputs": [],
   "source": []
  }
 ],
 "metadata": {
  "kernelspec": {
   "display_name": "Python 3",
   "language": "python",
   "name": "python3"
  },
  "language_info": {
   "codemirror_mode": {
    "name": "ipython",
    "version": 3
   },
   "file_extension": ".py",
   "mimetype": "text/x-python",
   "name": "python",
   "nbconvert_exporter": "python",
   "pygments_lexer": "ipython3",
   "version": "3.6.5"
  }
 },
 "nbformat": 4,
 "nbformat_minor": 2
}
